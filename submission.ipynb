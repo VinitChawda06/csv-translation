{
 "cells": [
  {
   "cell_type": "code",
   "execution_count": null,
   "id": "b38e9ed8-4530-4f6c-911c-e5041d902e40",
   "metadata": {},
   "outputs": [],
   "source": [
    "!pip install translate"
   ]
  },
  {
   "cell_type": "code",
   "execution_count": null,
   "id": "936fcbd8-249a-4d70-b3e9-84c434ff39fa",
   "metadata": {
    "scrolled": true
   },
   "outputs": [],
   "source": [
    "!pip install --upgrade googletrans==4.0.0-rc1"
   ]
  },
  {
   "cell_type": "code",
   "execution_count": null,
   "id": "85269d2c-aceb-4663-b6a0-9bcdf36f85bc",
   "metadata": {},
   "outputs": [],
   "source": [
    "import pandas as pd\n",
    "from googletrans import Translator\n",
    "import time"
   ]
  },
  {
   "cell_type": "code",
   "execution_count": null,
   "id": "d295c7d2-a6a1-480d-9ebd-027cab1d1120",
   "metadata": {},
   "outputs": [],
   "source": [
    "def translate_csv(input_file, output_file):\n",
    "    start_time = time.time()\n",
    "    # Load the CSV file into a DataFrame\n",
    "    df = pd.read_csv(input_file, encoding='utf-8')\n",
    "\n",
    "    # Initialize the translator\n",
    "    translator = Translator()\n",
    "\n",
    "    # Translate column headers\n",
    "    translated_headers = [translator.translate(header, src='zh-cn', dest='en').text for header in df.columns]\n",
    "    df.columns = translated_headers\n",
    "\n",
    "    # Translate each cell in the DataFrame\n",
    "    for column in df.columns:\n",
    "        df[column] = df[column].apply(lambda x: translator.translate(str(x), src='zh-cn', dest='en').text)\n",
    "\n",
    "    # Save the translated DataFrame to a new CSV file\n",
    "    df.to_csv(output_file, index=False, encoding='utf-8')\n",
    "    end_time = time.time()\n",
    "    execution_time = end_time - start_time\n",
    "\n",
    "    print(f\"Execution time: {execution_time:.2f} seconds\")"
   ]
  },
  {
   "cell_type": "code",
   "execution_count": null,
   "id": "d5ad053b-e39b-41dc-b09e-d46474ded083",
   "metadata": {},
   "outputs": [],
   "source": [
    "if __name__ == \"__main__\":\n",
    "    input_file_path = '/content/Order Export.csv'  # Replace with the path to your CSV file\n",
    "    output_file_path = 'Order Export-en.csv'  # Replace with the desired output path\n",
    "\n",
    "    translate_csv(input_file_path, output_file_path)"
   ]
  }
 ],
 "metadata": {
  "kernelspec": {
   "display_name": "Python 3 (ipykernel)",
   "language": "python",
   "name": "python3"
  },
  "language_info": {
   "codemirror_mode": {
    "name": "ipython",
    "version": 3
   },
   "file_extension": ".py",
   "mimetype": "text/x-python",
   "name": "python",
   "nbconvert_exporter": "python",
   "pygments_lexer": "ipython3",
   "version": "3.10.12"
  }
 },
 "nbformat": 4,
 "nbformat_minor": 5
}
